{
  "nbformat": 4,
  "nbformat_minor": 0,
  "metadata": {
    "colab": {
      "provenance": []
    },
    "kernelspec": {
      "name": "python3",
      "display_name": "Python 3"
    },
    "language_info": {
      "name": "python"
    }
  },
  "cells": [
    {
      "cell_type": "code",
      "execution_count": null,
      "metadata": {
        "id": "eK8so77pdD4o"
      },
      "outputs": [],
      "source": []
    },
    {
      "cell_type": "markdown",
      "source": [
        "1)   What is Object-Oriented Programming (OOP)\n",
        "\n",
        "    -> Object-Oriented Programming (OOP) is a programming paradigm centered around the concept of objects, which are instances of classes. It promotes modularity, code reuse, and scalability by organizing data.\n",
        "\n",
        "2)  What is a class in OOP\n",
        "\n",
        "    -> A class in Object-Oriented Programming (OOP) is a blueprint for creating objects. It defines the attributes (data) and methods (functions)\n",
        "\n",
        "3)  What is an object in OOP\n",
        "\n",
        "    -> An object in Object-Oriented Programming (OOP) is an instance of a class. It represents a specific entity with its own attributes (data) and methods (behavior)\n",
        "4)  What is the difference between abstraction and encapsulation\n",
        "\n",
        "    -> Abstraction and Encapsulation are both fundamental concepts in Object-Oriented Programming (OOP)\n",
        "    1) Abstraction :- Hiding complex implementation details and showing only essential features,To simplify usage by exposing only what is necessary,Using abstract classes, interfaces, and method overriding.\n",
        "    2) Encapsulation :- Restricting direct access to data and methods, allowing controlled interaction,To protect data from unintended modification,Using access modifiers like private, protected, and public.\n",
        "\n",
        "5)  What are dunder methods in Python\n",
        "\n",
        "    -> Dunder methods (short for double underscore methods), also known as magic methods, are special methods in Python that start and end with double underscores (e.g., __init__, __str__). They allow objects to interact with built-in functions and operators in a structured way.\n",
        "\n",
        "6)   Explain the concept of inheritance in OOP\n",
        "\n",
        "    -> Inheritance in Object-Oriented Programming (OOP) allows one class (child class) to acquire the properties and behaviors of another class (parent class). It promotes code reuse, modularity, and extensibility.\n",
        "\n",
        "7)   What is polymorphism in OOP\n",
        "\n",
        "    -> Polymorphism in Object-Oriented Programming (OOP) allows different classes to be treated as instances of the same base class. This enables flexibility and consistency by using a common interface for multiple object types 1) Method Overloading 2) Method Overriding 3) Operator Overloading\n",
        "    4) Duck Typing.\n",
        "\n",
        "8)   How is encapsulation achieved in Python\n",
        "\n",
        "    -> Encapsulation in Python is achieved by restricting direct access to data and methods within a class, ensuring controlled interaction through well-defined interfaces.\n",
        "\n",
        "9)   What is a constructor in Python\n",
        "\n",
        "    -> A constructor in Python is a special method used to initialize objects when they are created. In Python, the constructor method is called __init__(), and it automatically runs when a new instance of a class is created.\n",
        "\n",
        "10)  What are class and static methods in Python\n",
        "\n",
        "    -> In Python, class methods and static methods are specialized methods that belong to a class rather than an instance. They are used for different purposes and are defined using decorators.\n",
        "    1) Class Method :- Operate on the class itself, not individual instances,- Can modify class-level attributes, - First parameter is cls, referring to the class.\n",
        "    2) Static Method :- Do not modify class or instance attributes,- Work independently; no self or cls parameter,Used for utility functions that relate to the class but don’t need instance data.\n",
        "\n",
        "11)  What is method overloading in Python\n",
        "\n",
        "    -> Method overloading refers to defining multiple methods with the same name but different parameters. While Python does not natively support method overloading.\n",
        "\n",
        "12)  What is method overriding in OOP\n",
        "\n",
        "    -> Method overriding in Object-Oriented Programming (OOP) allows a child class to redefine a method inherited from its parent class. This ensures that the child class can provide a specialized implementation for a method while maintaining a common interface.\n",
        "\n",
        "13)  What is a property decorator in Python\n",
        "\n",
        "    -> The property decorator () in Python is used to define getter methods in a class, allowing attributes to be accessed like properties instead of calling explicit methods. It helps in encapsulation by controlling how attributes are retrieved, modified, and deleted.\n",
        "\n",
        "14)   Why is polymorphism important in OOP\n",
        "\n",
        "    -> Polymorphism is crucial in Object-Oriented Programming (OOP) because it simplifies code, enhances flexibility, and promotes consistency across different object types. It allows methods in different classes to have the same name but different behaviors, making code more scalable and reusable.\n",
        "\n",
        "15)   What is an abstract class in Python\n",
        "\n",
        "    -> An abstract class in Python is a class that cannot be instantiated on its own and is meant to be a blueprint for other classes. It helps enforce a structure by requiring subclasses.\n",
        "\n",
        "16)  What are the advantages of OOP\n",
        "\n",
        "    -> Object-Oriented Programming (OOP) offers several advantages that make code more structured, reusable, and scalable\n",
        "\n",
        "17)  What is the difference between a class variable and an instance variable\n",
        "\n",
        "    -> The difference between class variables and instance variables in Python lies in their scope, storage, and usage.\n",
        "    1) Class Variable :- - Shared across all instances of the class,- Defined inside the class but outside any method,- If modified, it affects all objects of that class.\n",
        "    2) Instance Variable :- Unique to each object , - Defined inside the __init__() method using self, - Changes to an instance variable only affect that specific object.\n",
        "\n",
        "18)  What is multiple inheritance in Python\n",
        "\n",
        "    -> Multiple inheritance in Python allows a class to inherit from more than one parent class. This enables a child class to inherit attributes and methods from multiple sources, providing greater flexibility in code reuse.\n",
        "\n",
        "19)  Explain the purpose of ‘’__str__’ and ‘__repr__’ ‘ methods in Python\n",
        "\n",
        "    -> In Python, __str__ and __repr__ are special dunder (double underscore) methods used for representing objects as strings. While both serve similar roles.\n",
        "    1)  __str__ :- - Defines a human-readable string representation of an object,- Used when calling str(object), or when printing an object with print(object),- Should return a simple, nicely formatted string for end users.\n",
        "    2)  __repr__ :- - Defines a technical representation for debugging,- Used when calling repr(object),- Should return a string that ideally allows recreating the object.\n",
        "\n",
        "20)  What is the significance of the ‘super()’ function in Python\n",
        "\n",
        "    -> The  function in Python is crucial for working with inheritance, as it allows a child class to call methods from its parent class. This ensures code reusability, avoids redundant implementations, and maintains proper method resolution in cases of multiple inheritance.\n",
        "\n",
        "21) What is the significance of the __del__ method in Python\n",
        "\n",
        "    -> The  method in Python is a destructor method that is called when an object is about to be deleted. It allows cleanup operations such as closing files, releasing resources, or logging deletion events before the object is removed from memory.\n",
        "\n",
        "22)  What is the difference between @staticmethod and classmethod in Python\n",
        "\n",
        "    -> Both staticmethod and classmethod are decorators in Python that modify how methods behave inside a class. The key difference lies in what they operate on classmethod interacts with the class itself, while staticmethod operates independently of instances or the class.\n",
        "    1) Class Method :- Receives cls as the first parameter, referring to the class,- Can modify class variables and create alternative constructors,- Uses the classmethod decorator.\n",
        "    2) Static Method :- - Does not receive self or cls—works independently,- Used for utility functions that relate to the class but don’t require instance or class-level access,- Uses the @staticmethod decorator.\n",
        "\n",
        "23)   How does polymorphism work in Python with inheritance\n",
        "\n",
        "    -> llowing objects of different classes to be treated as instances of the same base class. This makes the code more flexible and scalable by enabling a common interface for multiple types.\n",
        "\n",
        "24)   What is method chaining in Python OOP\n",
        "\n",
        "    -> Method chaining in Python OOP refers to calling multiple methods on the same object in a single line, improving code readability and efficiency. This technique works by ensuring each method returns the object itself (self), allowing another method to be called immediately after.\n",
        "\n",
        "25)  What is the purpose of the __call__ method in Python\n",
        "\n",
        "    -> it allows an instance of a class to be called like a function. This can be useful for implementing objects that behave like functions, improving flexibility and readability in code."
      ],
      "metadata": {
        "id": "kPnDoJeddNSq"
      }
    },
    {
      "cell_type": "code",
      "source": [
        "#  Create a parent class Animal with a method speak() that prints a generic message. Create a child class Dog that overrides the speak() method to print \"Bark!\".\n",
        "\n",
        "class Animal:\n",
        "    def speak(self):\n",
        "        print(\"I make a sound\")\n",
        "\n",
        "class Dog(Animal):\n",
        "    def speak(self):\n",
        "        print(\"Bark!\")\n",
        "\n",
        "animal = Animal()\n",
        "dog = Dog()\n",
        "\n",
        "animal.speak()\n",
        "dog.speak()\n"
      ],
      "metadata": {
        "colab": {
          "base_uri": "https://localhost:8080/"
        },
        "id": "eoOCGK6ejwuL",
        "outputId": "87884b9b-08fb-4787-977b-b4291cb503ed"
      },
      "execution_count": 5,
      "outputs": [
        {
          "output_type": "stream",
          "name": "stdout",
          "text": [
            "I make a sound\n",
            "Bark!\n"
          ]
        }
      ]
    },
    {
      "cell_type": "code",
      "source": [
        "# . Write a program to create an abstract class Shape with a method area(). Derive classes Circle and Rectangle from it and implement the area() method in both.\n",
        "\n",
        "\n",
        "from abc import ABC, abstractmethod\n",
        "\n",
        "\n",
        "class Shape(ABC):\n",
        "    @abstractmethod\n",
        "    def area(self):\n",
        "        pass\n",
        "\n",
        "\n",
        "class Circle(Shape):\n",
        "    def __init__(self, radius):\n",
        "        self.radius = radius\n",
        "\n",
        "    def area(self):\n",
        "        return 3.1416 * self.radius ** 2  # πr²\n",
        "\n",
        "\n",
        "class Rectangle(Shape):\n",
        "    def __init__(self, width, height):\n",
        "        self.width = width\n",
        "        self.height = height\n",
        "\n",
        "    def area(self):\n",
        "        return self.width * self.height  # Width × Height\n",
        "\n",
        "\n",
        "circle = Circle(5)\n",
        "rectangle = Rectangle(4, 6)\n",
        "\n",
        "print(\"Circle Area:\", circle.area())\n",
        "print(\"Rectangle Area:\", rectangle.area())\n"
      ],
      "metadata": {
        "colab": {
          "base_uri": "https://localhost:8080/"
        },
        "id": "jsWydlhEkUPL",
        "outputId": "f66bcda8-0a4f-4689-9e60-e26ed94570d5"
      },
      "execution_count": 6,
      "outputs": [
        {
          "output_type": "stream",
          "name": "stdout",
          "text": [
            "Circle Area: 78.53999999999999\n",
            "Rectangle Area: 24\n"
          ]
        }
      ]
    },
    {
      "cell_type": "code",
      "source": [
        "#  Implement a multi-level inheritance scenario where a class Vehicle has an attribute type. Derive a class Car and further derive a class ElectricCar that adds a battery attribute.\n",
        "\n",
        "class Vehicle:\n",
        "    def __init__(self, type):\n",
        "        self.type = type\n",
        "\n",
        "    def show_type(self):\n",
        "        return f\"Vehicle type: {self.type}\"\n",
        "\n",
        "\n",
        "class Car(Vehicle):\n",
        "    def __init__(self, type, brand):\n",
        "        super().__init__(type)\n",
        "        self.brand = brand\n",
        "\n",
        "    def show_brand(self):\n",
        "        return f\"Car brand: {self.brand}\"\n",
        "\n",
        "\n",
        "class ElectricCar(Car):\n",
        "    def __init__(self, type, brand, battery):\n",
        "        super().__init__(type, brand)\n",
        "        self.battery = battery\n",
        "\n",
        "    def show_battery(self):\n",
        "        return f\"Battery capacity: {self.battery} kWh\"\n",
        "\n",
        "\n",
        "ev = ElectricCar(\"Sedan\", \"Tesla\", 75)\n",
        "\n",
        "\n",
        "print(ev.show_type())\n",
        "print(ev.show_brand())\n",
        "print(ev.show_battery())\n"
      ],
      "metadata": {
        "colab": {
          "base_uri": "https://localhost:8080/"
        },
        "id": "hJXmFQgEkzqY",
        "outputId": "54fa3986-a1c8-486b-ed49-82acadc96308"
      },
      "execution_count": 7,
      "outputs": [
        {
          "output_type": "stream",
          "name": "stdout",
          "text": [
            "Vehicle type: Sedan\n",
            "Car brand: Tesla\n",
            "Battery capacity: 75 kWh\n"
          ]
        }
      ]
    },
    {
      "cell_type": "code",
      "source": [
        "# Demonstrate polymorphism by creating a base class Bird with a method fly(). Create two derived classes Sparrow and Penguin that override the fly() method.\n",
        "\n",
        "class Bird:\n",
        "    def fly(self):\n",
        "        return \"I can fly!\"\n",
        "\n",
        "\n",
        "class Sparrow(Bird):\n",
        "    def fly(self):\n",
        "        return \"Sparrow flies swiftly.\"\n",
        "\n",
        "\n",
        "class Penguin(Bird):\n",
        "    def fly(self):\n",
        "        return \"I cannot fly, but I swim!\"\n",
        "\n",
        "\n",
        "birds = [Sparrow(), Penguin()]\n",
        "for bird in birds:\n",
        "    print(bird.fly())"
      ],
      "metadata": {
        "colab": {
          "base_uri": "https://localhost:8080/"
        },
        "id": "WYglXGa-lV2Q",
        "outputId": "a04ba362-eade-45fa-e37e-fddde3eef842"
      },
      "execution_count": 8,
      "outputs": [
        {
          "output_type": "stream",
          "name": "stdout",
          "text": [
            "Sparrow flies swiftly.\n",
            "I cannot fly, but I swim!\n"
          ]
        }
      ]
    },
    {
      "cell_type": "code",
      "source": [
        "# Write a program to demonstrate encapsulation by creating a class BankAccount with private attributes balance and methods to deposit, withdraw, and check balance\n",
        "\n",
        "class BankAccount:\n",
        "    def __init__(self, initial_balance):\n",
        "        self.__balance = initial_balance\n",
        "\n",
        "    def deposit(self, amount):\n",
        "        if amount > 0:\n",
        "            self.__balance += amount\n",
        "            print(f\"Deposited: {amount}\")\n",
        "        else:\n",
        "            print(\"Deposit amount must be positive.\")\n",
        "\n",
        "    def withdraw(self, amount):\n",
        "        if 0 < amount <= self.__balance:\n",
        "            self.__balance -= amount\n",
        "            print(f\"Withdrawn: {amount}\")\n",
        "        else:\n",
        "            print(\"Invalid withdrawal amount or insufficient funds.\")\n",
        "\n",
        "    def get_balance(self):\n",
        "        return self.__balance\n",
        "\n",
        "\n",
        "account = BankAccount(1000)\n",
        "\n",
        "\n",
        "account.deposit(500)\n",
        "account.withdraw(300)\n",
        "print(\"Current Balance:\", account.get_balance())"
      ],
      "metadata": {
        "colab": {
          "base_uri": "https://localhost:8080/"
        },
        "id": "EC2-1Pxollgb",
        "outputId": "76e91f6f-6dc2-47e3-d874-81a54fe40c07"
      },
      "execution_count": 9,
      "outputs": [
        {
          "output_type": "stream",
          "name": "stdout",
          "text": [
            "Deposited: 500\n",
            "Withdrawn: 300\n",
            "Current Balance: 1200\n"
          ]
        }
      ]
    },
    {
      "cell_type": "code",
      "source": [
        "#  Demonstrate runtime polymorphism using a method play() in a base class Instrument. Derive classes Guitar and Piano that implement their own version of play().\n",
        "\n",
        "class Instrument:\n",
        "    def play(self):\n",
        "        return \"Playing an instrument\"\n",
        "\n",
        "\n",
        "class Guitar(Instrument):\n",
        "    def play(self):\n",
        "        return \"Strumming the guitar 🎸\"\n",
        "\n",
        "\n",
        "class Piano(Instrument):\n",
        "    def play(self):\n",
        "        return \"Playing the piano 🎹\"\n",
        "\n",
        "\n",
        "instruments = [Guitar(), Piano()]\n",
        "for instrument in instruments:\n",
        "    print(instrument.play())"
      ],
      "metadata": {
        "colab": {
          "base_uri": "https://localhost:8080/"
        },
        "id": "zetSD71Sl1eK",
        "outputId": "7ed83247-ea75-44ab-b472-957e7912a04c"
      },
      "execution_count": 10,
      "outputs": [
        {
          "output_type": "stream",
          "name": "stdout",
          "text": [
            "Strumming the guitar 🎸\n",
            "Playing the piano 🎹\n"
          ]
        }
      ]
    },
    {
      "cell_type": "code",
      "source": [
        "# Create a class MathOperations with a class method add_numbers() to add two numbers and a static method subtract_numbers() to subtract two numbers.\n",
        "\n",
        "class MathOperations:\n",
        "    @classmethod\n",
        "    def add_numbers(cls, a, b):\n",
        "        return a + b\n",
        "\n",
        "    @staticmethod\n",
        "    def subtract_numbers(a, b):\n",
        "        return a - b\n",
        "\n",
        "\n",
        "print(MathOperations.add_numbers(5, 3))\n",
        "print(MathOperations.subtract_numbers(10, 4))\n"
      ],
      "metadata": {
        "colab": {
          "base_uri": "https://localhost:8080/"
        },
        "id": "ccnzGwgHmFix",
        "outputId": "cfa8c707-2b5f-4ca8-f327-3eda4a89f80c"
      },
      "execution_count": 11,
      "outputs": [
        {
          "output_type": "stream",
          "name": "stdout",
          "text": [
            "8\n",
            "6\n"
          ]
        }
      ]
    },
    {
      "cell_type": "code",
      "source": [
        "# Implement a class Person with a class method to count the total number of persons created.\n",
        "\n",
        "class Person:\n",
        "    count = 0\n",
        "\n",
        "    def __init__(self, name):\n",
        "        self.name = name\n",
        "        Person.count += 1\n",
        "\n",
        "    @classmethod\n",
        "    def total_persons(cls):\n",
        "        return f\"Total persons created: {cls.count}\"\n",
        "\n",
        "\n",
        "p1 = Person(\"Alice\")\n",
        "p2 = Person(\"Bob\")\n",
        "p3 = Person(\"Charlie\")\n",
        "\n",
        "\n",
        "print(Person.total_persons())"
      ],
      "metadata": {
        "colab": {
          "base_uri": "https://localhost:8080/"
        },
        "id": "EGC77PRAmUqo",
        "outputId": "c4155316-2f24-43c0-d52b-1323219c70e7"
      },
      "execution_count": 12,
      "outputs": [
        {
          "output_type": "stream",
          "name": "stdout",
          "text": [
            "Total persons created: 3\n"
          ]
        }
      ]
    },
    {
      "cell_type": "code",
      "source": [
        "# Write a class Fraction with attributes numerator and denominator. Override the str method to display the fraction as \"numerator/denominator\".\n",
        "\n",
        "\n",
        "class Fraction:\n",
        "    def __init__(self, numerator, denominator):\n",
        "        if denominator == 0:\n",
        "            raise ValueError(\"Denominator cannot be zero.\")\n",
        "        self.numerator = numerator\n",
        "        self.denominator = denominator\n",
        "\n",
        "    def __str__(self):\n",
        "        return f\"{self.numerator}/{self.denominator}\"\n",
        "\n",
        "\n",
        "fraction1 = Fraction(3, 4)\n",
        "fraction2 = Fraction(7, 2)\n",
        "\n",
        "\n",
        "print(fraction1)\n",
        "print(fraction2)\n"
      ],
      "metadata": {
        "colab": {
          "base_uri": "https://localhost:8080/"
        },
        "id": "JOOjHPDtmhqu",
        "outputId": "2b2d0f62-0dc8-4860-af2d-b219e1ab23b8"
      },
      "execution_count": 13,
      "outputs": [
        {
          "output_type": "stream",
          "name": "stdout",
          "text": [
            "3/4\n",
            "7/2\n"
          ]
        }
      ]
    },
    {
      "cell_type": "code",
      "source": [
        "# Demonstrate operator overloading by creating a class Vector and overriding the add method to add two vectors\n",
        "\n",
        "\n",
        "class Vector:\n",
        "    def __init__(self, x, y):\n",
        "        self.x = x\n",
        "        self.y = y\n",
        "\n",
        "    def __add__(self, other):\n",
        "        \"\"\"Overloading the + operator to add two vectors\"\"\"\n",
        "        if isinstance(other, Vector):\n",
        "            return Vector(self.x + other.x, self.y + other.y)\n",
        "        return NotImplemented\n",
        "\n",
        "    def __str__(self):\n",
        "        \"\"\"String representation for displaying the vector\"\"\"\n",
        "        return f\"Vector({self.x}, {self.y})\"\n",
        "\n",
        "\n",
        "v1 = Vector(2, 3)\n",
        "v2 = Vector(4, 1)\n",
        "\n",
        "\n",
        "result = v1 + v2\n",
        "print(result)\n"
      ],
      "metadata": {
        "colab": {
          "base_uri": "https://localhost:8080/"
        },
        "id": "B0MQoyRLmyJO",
        "outputId": "afe4160e-fc23-4a6b-8d06-de2fb1e68e05"
      },
      "execution_count": 14,
      "outputs": [
        {
          "output_type": "stream",
          "name": "stdout",
          "text": [
            "Vector(6, 4)\n"
          ]
        }
      ]
    },
    {
      "cell_type": "code",
      "source": [
        "# Create a class Person with attributes name and age. Add a method greet() that prints \"Hello, my name is {name} and I am {age} years old.\"\n",
        "\n",
        "class Person:\n",
        "    def __init__(self, name, age):\n",
        "        self.name = name\n",
        "        self.age = age\n",
        "\n",
        "    def greet(self):\n",
        "        print(f\"Hello, my name is {self.name} and I am {self.age} years old.\")\n",
        "\n",
        "\n",
        "person1 = Person(\"Alice\", 25)\n",
        "person1.greet()\n"
      ],
      "metadata": {
        "colab": {
          "base_uri": "https://localhost:8080/"
        },
        "id": "fBzdgxl-nDCn",
        "outputId": "94b8d792-e90d-49e8-8884-71328bb13781"
      },
      "execution_count": 15,
      "outputs": [
        {
          "output_type": "stream",
          "name": "stdout",
          "text": [
            "Hello, my name is Alice and I am 25 years old.\n"
          ]
        }
      ]
    },
    {
      "cell_type": "code",
      "source": [
        "#  Implement a class Student with attributes name and grades. Create a method average_grade() to compute the average of the grades.\n",
        "\n",
        "\n",
        "class Student:\n",
        "    def __init__(self, name, grades):\n",
        "        self.name = name\n",
        "        self.grades = grades  # List of grades\n",
        "\n",
        "    def average_grade(self):\n",
        "        return sum(self.grades) / len(self.grades) if self.grades else 0\n",
        "\n",
        "\n",
        "student1 = Student(\"Alice\", [85, 90, 78, 92])\n",
        "print(f\"{student1.name}'s average grade: {student1.average_grade():.2f}\")"
      ],
      "metadata": {
        "colab": {
          "base_uri": "https://localhost:8080/"
        },
        "id": "72SE6IeqnOmH",
        "outputId": "b4fbd779-d3bb-457a-fabf-fdab49cc16e0"
      },
      "execution_count": 16,
      "outputs": [
        {
          "output_type": "stream",
          "name": "stdout",
          "text": [
            "Alice's average grade: 86.25\n"
          ]
        }
      ]
    },
    {
      "cell_type": "code",
      "source": [
        "# Create a class Rectangle with methods set_dimensions() to set the dimensions and area() to calculate the area\n",
        "\n",
        "class Rectangle:\n",
        "    def __init__(self, width=0, height=0):\n",
        "        self.width = width\n",
        "        self.height = height\n",
        "\n",
        "    def set_dimensions(self, width, height):\n",
        "        self.width = width\n",
        "        self.height = height\n",
        "\n",
        "    def area(self):\n",
        "        return self.width * self.height\n",
        "\n",
        "\n",
        "rect = Rectangle()\n",
        "rect.set_dimensions(5, 10)\n",
        "print(f\"Area of rectangle: {rect.area()}\")"
      ],
      "metadata": {
        "colab": {
          "base_uri": "https://localhost:8080/"
        },
        "id": "Bg8Zw2g_nc5z",
        "outputId": "573ab2d3-6a8b-4cb9-bab3-0250e9d92219"
      },
      "execution_count": 17,
      "outputs": [
        {
          "output_type": "stream",
          "name": "stdout",
          "text": [
            "Area of rectangle: 50\n"
          ]
        }
      ]
    },
    {
      "cell_type": "code",
      "source": [
        "# Create a class Employee with a method calculate_salary() that computes the salary based on hours worked and hourly rate. Create a derived class Manager that adds a bonus to the salary.\n",
        "\n",
        "class Employee:\n",
        "    def __init__(self, name, hours_worked, hourly_rate):\n",
        "        self.name = name\n",
        "        self.hours_worked = hours_worked\n",
        "        self.hourly_rate = hourly_rate\n",
        "\n",
        "    def calculate_salary(self):\n",
        "        return self.hours_worked * self.hourly_rate\n",
        "\n",
        "\n",
        "class Manager(Employee):\n",
        "    def __init__(self, name, hours_worked, hourly_rate, bonus):\n",
        "        super().__init__(name, hours_worked, hourly_rate)\n",
        "        self.bonus = bonus\n",
        "\n",
        "    def calculate_salary(self):\n",
        "        return super().calculate_salary() + self.bonus\n",
        "\n",
        "\n",
        "employee = Employee(\"Alice\", 40, 20)\n",
        "manager = Manager(\"Bob\", 45, 30, 500)\n",
        "\n",
        "print(f\"{employee.name}'s Salary: ${employee.calculate_salary()}\")\n",
        "print(f\"{manager.name}'s Salary: ${manager.calculate_salary()}\")\n"
      ],
      "metadata": {
        "colab": {
          "base_uri": "https://localhost:8080/"
        },
        "id": "cdCvlzOUnpHX",
        "outputId": "c1f7b5d9-1bce-416a-b0d3-25760cae1481"
      },
      "execution_count": 18,
      "outputs": [
        {
          "output_type": "stream",
          "name": "stdout",
          "text": [
            "Alice's Salary: $800\n",
            "Bob's Salary: $1850\n"
          ]
        }
      ]
    },
    {
      "cell_type": "code",
      "source": [
        "# Create a class Product with attributes name, price, and quantity. Implement a method total_price() that calculates the total price of the product\n",
        "\n",
        "class Product:\n",
        "    def __init__(self, name, price, quantity):\n",
        "        self.name = name\n",
        "        self.price = price\n",
        "        self.quantity = quantity\n",
        "\n",
        "    def total_price(self):\n",
        "        return self.price * self.quantity\n",
        "\n",
        "\n",
        "product1 = Product(\"Laptop\", 800, 2)\n",
        "print(f\"Total price for {product1.quantity} {product1.name}(s): ${product1.total_price()}\")\n"
      ],
      "metadata": {
        "colab": {
          "base_uri": "https://localhost:8080/"
        },
        "id": "1rWXpyVKn_J3",
        "outputId": "048e5273-8b60-4aaf-efce-dc952bd11770"
      },
      "execution_count": 19,
      "outputs": [
        {
          "output_type": "stream",
          "name": "stdout",
          "text": [
            "Total price for 2 Laptop(s): $1600\n"
          ]
        }
      ]
    },
    {
      "cell_type": "code",
      "source": [
        "#  Create a class Animal with an abstract method sound(). Create two derived classes Cow and Sheep that implement the sound() method\n",
        "\n",
        "from abc import ABC, abstractmethod\n",
        "\n",
        "\n",
        "class Animal(ABC):\n",
        "    @abstractmethod\n",
        "    def sound(self):\n",
        "        pass\n",
        "\n",
        "\n",
        "class Cow(Animal):\n",
        "    def sound(self):\n",
        "        return \"Moo!\"\n",
        "\n",
        "\n",
        "class Sheep(Animal):\n",
        "    def sound(self):\n",
        "        return \"Baa!\"\n",
        "\n",
        "cow = Cow()\n",
        "sheep = Sheep()\n",
        "\n",
        "print(cow.sound())\n",
        "print(sheep.sound())\n"
      ],
      "metadata": {
        "colab": {
          "base_uri": "https://localhost:8080/"
        },
        "id": "bNR4OxFfoMXk",
        "outputId": "f0a4aefd-eff7-4104-9127-9572d7400ec3"
      },
      "execution_count": 20,
      "outputs": [
        {
          "output_type": "stream",
          "name": "stdout",
          "text": [
            "Moo!\n",
            "Baa!\n"
          ]
        }
      ]
    },
    {
      "cell_type": "code",
      "source": [
        "# Create a class Book with attributes title, author, and year_published. Add a method get_book_info() that returns a formatted string with the book's details\n",
        "\n",
        "class Book:\n",
        "    def __init__(self, title, author, year_published):\n",
        "        self.title = title\n",
        "        self.author = author\n",
        "        self.year_published = year_published\n",
        "\n",
        "    def get_book_info(self):\n",
        "        return f\"'{self.title}' by {self.author}, published in {self.year_published}\"\n",
        "\n",
        "\n",
        "book1 = Book(\"Python Crash Course\", \"Eric Matthes\", 2015)\n",
        "\n",
        "\n",
        "print(book1.get_book_info())\n"
      ],
      "metadata": {
        "colab": {
          "base_uri": "https://localhost:8080/"
        },
        "id": "wcMlc1HwocGM",
        "outputId": "465095e0-8458-4d70-e973-b36fc4bb067c"
      },
      "execution_count": 21,
      "outputs": [
        {
          "output_type": "stream",
          "name": "stdout",
          "text": [
            "'Python Crash Course' by Eric Matthes, published in 2015\n"
          ]
        }
      ]
    },
    {
      "cell_type": "code",
      "source": [
        "# Create a class House with attributes address and price. Create a derived class Mansion that adds an attribute number_of_rooms.\n",
        "\n",
        "class House:\n",
        "    def __init__(self, address, price):\n",
        "        self.address = address\n",
        "        self.price = price\n",
        "\n",
        "    def get_info(self):\n",
        "        return f\"House located at {self.address}, priced at ${self.price}\"\n",
        "\n",
        "\n",
        "class Mansion(House):\n",
        "    def __init__(self, address, price, number_of_rooms):\n",
        "        super().__init__(address, price)\n",
        "        self.number_of_rooms = number_of_rooms\n",
        "\n",
        "    def get_info(self):\n",
        "        return f\"Mansion at {self.address}, priced at ${self.price}, with {self.number_of_rooms} rooms\"\n",
        "\n",
        "\n",
        "house = House(\"123 Elm St\", 250000)\n",
        "mansion = Mansion(\"456 Oak Ave\", 2000000, 10)\n",
        "\n",
        "print(house.get_info())\n",
        "print(mansion.get_info())"
      ],
      "metadata": {
        "colab": {
          "base_uri": "https://localhost:8080/"
        },
        "id": "VH4QIdyFooQS",
        "outputId": "efabd5dc-a293-4a92-e1d3-3a25afcd3f19"
      },
      "execution_count": 22,
      "outputs": [
        {
          "output_type": "stream",
          "name": "stdout",
          "text": [
            "House located at 123 Elm St, priced at $250000\n",
            "Mansion at 456 Oak Ave, priced at $2000000, with 10 rooms\n"
          ]
        }
      ]
    }
  ]
}